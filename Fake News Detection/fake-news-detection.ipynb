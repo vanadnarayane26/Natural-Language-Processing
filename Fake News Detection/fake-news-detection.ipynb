{
 "cells": [
  {
   "cell_type": "markdown",
   "metadata": {
    "_cell_guid": "b1076dfc-b9ad-4769-8c92-a6c4dae69d19",
    "_uuid": "8f2839f25d086af736a60e9eeb907d3b93b6e0e5"
   },
   "source": [
    "## Machine Learning Approach"
   ]
  },
  {
   "cell_type": "code",
   "execution_count": 101,
   "metadata": {
    "execution": {
     "iopub.execute_input": "2021-07-08T19:37:41.265167Z",
     "iopub.status.busy": "2021-07-08T19:37:41.264658Z",
     "iopub.status.idle": "2021-07-08T19:37:41.275116Z",
     "shell.execute_reply": "2021-07-08T19:37:41.274244Z",
     "shell.execute_reply.started": "2021-07-08T19:37:41.265133Z"
    }
   },
   "outputs": [],
   "source": [
    "import numpy as np\n",
    "import pandas as pd\n",
    "import matplotlib.pyplot as plt\n",
    "import seaborn as sns\n",
    "from nltk.corpus import stopwords\n",
    "from nltk.stem.porter import PorterStemmer\n",
    "import re\n",
    "from sklearn.feature_extraction.text import TfidfVectorizer\n",
    "from sklearn.ensemble import RandomForestClassifier\n",
    "from sklearn.metrics import classification_report\n",
    "from sklearn.metrics import confusion_matrix\n",
    "from sklearn.model_selection import StratifiedKFold\n",
    "from sklearn.metrics import accuracy_score\n",
    "from tqdm import tqdm\n",
    "from sklearn.pipeline import Pipeline\n",
    "import pickle\n",
    "from joblib import dump\n",
    "%matplotlib inline"
   ]
  },
  {
   "cell_type": "code",
   "execution_count": 102,
   "metadata": {
    "execution": {
     "iopub.execute_input": "2021-07-08T19:37:41.840117Z",
     "iopub.status.busy": "2021-07-08T19:37:41.839748Z",
     "iopub.status.idle": "2021-07-08T19:37:42.001629Z",
     "shell.execute_reply": "2021-07-08T19:37:42.000593Z",
     "shell.execute_reply.started": "2021-07-08T19:37:41.840085Z"
    }
   },
   "outputs": [
    {
     "data": {
      "text/html": [
       "<div>\n",
       "<style scoped>\n",
       "    .dataframe tbody tr th:only-of-type {\n",
       "        vertical-align: middle;\n",
       "    }\n",
       "\n",
       "    .dataframe tbody tr th {\n",
       "        vertical-align: top;\n",
       "    }\n",
       "\n",
       "    .dataframe thead th {\n",
       "        text-align: right;\n",
       "    }\n",
       "</style>\n",
       "<table border=\"1\" class=\"dataframe\">\n",
       "  <thead>\n",
       "    <tr style=\"text-align: right;\">\n",
       "      <th></th>\n",
       "      <th>URLs</th>\n",
       "      <th>Headline</th>\n",
       "      <th>Body</th>\n",
       "      <th>Label</th>\n",
       "    </tr>\n",
       "  </thead>\n",
       "  <tbody>\n",
       "    <tr>\n",
       "      <th>0</th>\n",
       "      <td>http://www.bbc.com/news/world-us-canada-414191...</td>\n",
       "      <td>Four ways Bob Corker skewered Donald Trump</td>\n",
       "      <td>Image copyright Getty Images\\nOn Sunday mornin...</td>\n",
       "      <td>1</td>\n",
       "    </tr>\n",
       "    <tr>\n",
       "      <th>1</th>\n",
       "      <td>https://www.reuters.com/article/us-filmfestiva...</td>\n",
       "      <td>Linklater's war veteran comedy speaks to moder...</td>\n",
       "      <td>LONDON (Reuters) - “Last Flag Flying”, a comed...</td>\n",
       "      <td>1</td>\n",
       "    </tr>\n",
       "    <tr>\n",
       "      <th>2</th>\n",
       "      <td>https://www.nytimes.com/2017/10/09/us/politics...</td>\n",
       "      <td>Trump’s Fight With Corker Jeopardizes His Legi...</td>\n",
       "      <td>The feud broke into public view last week when...</td>\n",
       "      <td>1</td>\n",
       "    </tr>\n",
       "    <tr>\n",
       "      <th>3</th>\n",
       "      <td>https://www.reuters.com/article/us-mexico-oil-...</td>\n",
       "      <td>Egypt's Cheiron wins tie-up with Pemex for Mex...</td>\n",
       "      <td>MEXICO CITY (Reuters) - Egypt’s Cheiron Holdin...</td>\n",
       "      <td>1</td>\n",
       "    </tr>\n",
       "    <tr>\n",
       "      <th>4</th>\n",
       "      <td>http://www.cnn.com/videos/cnnmoney/2017/10/08/...</td>\n",
       "      <td>Jason Aldean opens 'SNL' with Vegas tribute</td>\n",
       "      <td>Country singer Jason Aldean, who was performin...</td>\n",
       "      <td>1</td>\n",
       "    </tr>\n",
       "  </tbody>\n",
       "</table>\n",
       "</div>"
      ],
      "text/plain": [
       "                                                URLs  \\\n",
       "0  http://www.bbc.com/news/world-us-canada-414191...   \n",
       "1  https://www.reuters.com/article/us-filmfestiva...   \n",
       "2  https://www.nytimes.com/2017/10/09/us/politics...   \n",
       "3  https://www.reuters.com/article/us-mexico-oil-...   \n",
       "4  http://www.cnn.com/videos/cnnmoney/2017/10/08/...   \n",
       "\n",
       "                                            Headline  \\\n",
       "0         Four ways Bob Corker skewered Donald Trump   \n",
       "1  Linklater's war veteran comedy speaks to moder...   \n",
       "2  Trump’s Fight With Corker Jeopardizes His Legi...   \n",
       "3  Egypt's Cheiron wins tie-up with Pemex for Mex...   \n",
       "4        Jason Aldean opens 'SNL' with Vegas tribute   \n",
       "\n",
       "                                                Body  Label  \n",
       "0  Image copyright Getty Images\\nOn Sunday mornin...      1  \n",
       "1  LONDON (Reuters) - “Last Flag Flying”, a comed...      1  \n",
       "2  The feud broke into public view last week when...      1  \n",
       "3  MEXICO CITY (Reuters) - Egypt’s Cheiron Holdin...      1  \n",
       "4  Country singer Jason Aldean, who was performin...      1  "
      ]
     },
     "execution_count": 102,
     "metadata": {},
     "output_type": "execute_result"
    }
   ],
   "source": [
    "df = pd.read_csv(r'C:\\Users\\Dell\\Kaggle notebooks\\Fake News Detection\\data.csv')\n",
    "df.head()"
   ]
  },
  {
   "cell_type": "code",
   "execution_count": 103,
   "metadata": {
    "execution": {
     "iopub.execute_input": "2021-07-08T19:37:42.420271Z",
     "iopub.status.busy": "2021-07-08T19:37:42.419819Z",
     "iopub.status.idle": "2021-07-08T19:37:42.425548Z",
     "shell.execute_reply": "2021-07-08T19:37:42.424364Z",
     "shell.execute_reply.started": "2021-07-08T19:37:42.420213Z"
    }
   },
   "outputs": [],
   "source": [
    "df_train = df.copy()"
   ]
  },
  {
   "cell_type": "code",
   "execution_count": 104,
   "metadata": {
    "execution": {
     "iopub.execute_input": "2021-07-08T19:37:43.380029Z",
     "iopub.status.busy": "2021-07-08T19:37:43.379663Z",
     "iopub.status.idle": "2021-07-08T19:37:43.386533Z",
     "shell.execute_reply": "2021-07-08T19:37:43.385499Z",
     "shell.execute_reply.started": "2021-07-08T19:37:43.379993Z"
    }
   },
   "outputs": [
    {
     "data": {
      "text/plain": [
       "(4009, 4)"
      ]
     },
     "execution_count": 104,
     "metadata": {},
     "output_type": "execute_result"
    }
   ],
   "source": [
    "df.shape"
   ]
  },
  {
   "cell_type": "code",
   "execution_count": 105,
   "metadata": {
    "execution": {
     "iopub.execute_input": "2021-07-08T19:37:44.180067Z",
     "iopub.status.busy": "2021-07-08T19:37:44.179711Z",
     "iopub.status.idle": "2021-07-08T19:37:44.195901Z",
     "shell.execute_reply": "2021-07-08T19:37:44.19471Z",
     "shell.execute_reply.started": "2021-07-08T19:37:44.180027Z"
    }
   },
   "outputs": [
    {
     "name": "stdout",
     "output_type": "stream",
     "text": [
      "<class 'pandas.core.frame.DataFrame'>\n",
      "RangeIndex: 4009 entries, 0 to 4008\n",
      "Data columns (total 4 columns):\n",
      " #   Column    Non-Null Count  Dtype \n",
      "---  ------    --------------  ----- \n",
      " 0   URLs      4009 non-null   object\n",
      " 1   Headline  4009 non-null   object\n",
      " 2   Body      3988 non-null   object\n",
      " 3   Label     4009 non-null   int64 \n",
      "dtypes: int64(1), object(3)\n",
      "memory usage: 125.4+ KB\n"
     ]
    }
   ],
   "source": [
    "df.info()"
   ]
  },
  {
   "cell_type": "code",
   "execution_count": 106,
   "metadata": {
    "execution": {
     "iopub.execute_input": "2021-07-08T19:37:45.205128Z",
     "iopub.status.busy": "2021-07-08T19:37:45.20478Z",
     "iopub.status.idle": "2021-07-08T19:37:45.216395Z",
     "shell.execute_reply": "2021-07-08T19:37:45.215053Z",
     "shell.execute_reply.started": "2021-07-08T19:37:45.205098Z"
    }
   },
   "outputs": [],
   "source": [
    "#removing missing values\n",
    "df.dropna(axis = 0,inplace = True)"
   ]
  },
  {
   "cell_type": "code",
   "execution_count": 107,
   "metadata": {
    "execution": {
     "iopub.execute_input": "2021-07-08T19:37:46.700129Z",
     "iopub.status.busy": "2021-07-08T19:37:46.69977Z",
     "iopub.status.idle": "2021-07-08T19:37:46.715591Z",
     "shell.execute_reply": "2021-07-08T19:37:46.71444Z",
     "shell.execute_reply.started": "2021-07-08T19:37:46.700097Z"
    }
   },
   "outputs": [
    {
     "name": "stdout",
     "output_type": "stream",
     "text": [
      "<class 'pandas.core.frame.DataFrame'>\n",
      "Int64Index: 3988 entries, 0 to 4008\n",
      "Data columns (total 4 columns):\n",
      " #   Column    Non-Null Count  Dtype \n",
      "---  ------    --------------  ----- \n",
      " 0   URLs      3988 non-null   object\n",
      " 1   Headline  3988 non-null   object\n",
      " 2   Body      3988 non-null   object\n",
      " 3   Label     3988 non-null   int64 \n",
      "dtypes: int64(1), object(3)\n",
      "memory usage: 155.8+ KB\n"
     ]
    }
   ],
   "source": [
    "df.info()"
   ]
  },
  {
   "cell_type": "code",
   "execution_count": 108,
   "metadata": {
    "execution": {
     "iopub.execute_input": "2021-07-08T19:37:47.540049Z",
     "iopub.status.busy": "2021-07-08T19:37:47.539689Z",
     "iopub.status.idle": "2021-07-08T19:37:47.54564Z",
     "shell.execute_reply": "2021-07-08T19:37:47.544659Z",
     "shell.execute_reply.started": "2021-07-08T19:37:47.540017Z"
    }
   },
   "outputs": [],
   "source": [
    "df.reset_index(inplace = True)"
   ]
  },
  {
   "cell_type": "code",
   "execution_count": 109,
   "metadata": {
    "execution": {
     "iopub.execute_input": "2021-07-08T19:38:27.960184Z",
     "iopub.status.busy": "2021-07-08T19:38:27.959798Z",
     "iopub.status.idle": "2021-07-08T19:38:28.102672Z",
     "shell.execute_reply": "2021-07-08T19:38:28.101578Z",
     "shell.execute_reply.started": "2021-07-08T19:38:27.960151Z"
    }
   },
   "outputs": [
    {
     "data": {
      "image/png": "[encoded data removed]",
      "text/plain": [
       "<Figure size 432x288 with 1 Axes>"
      ]
     },
     "metadata": {
      "needs_background": "light"
     },
     "output_type": "display_data"
    }
   ],
   "source": [
    "df.Label.value_counts().plot.bar()\n",
    "plt.title('Fake vs Real Plot')\n",
    "plt.show()"
   ]
  },
  {
   "cell_type": "code",
   "execution_count": 110,
   "metadata": {
    "execution": {
     "iopub.execute_input": "2021-07-08T19:05:28.920747Z",
     "iopub.status.busy": "2021-07-08T19:05:28.920373Z",
     "iopub.status.idle": "2021-07-08T19:05:35.308339Z",
     "shell.execute_reply": "2021-07-08T19:05:35.307648Z",
     "shell.execute_reply.started": "2021-07-08T19:05:28.920713Z"
    }
   },
   "outputs": [],
   "source": [
    "#considering only the headlines fro first model\n",
    "def preprocess(text):\n",
    "    ps = PorterStemmer()\n",
    "    headline = re.sub('[^a-zA-Z]',\" \",text)\n",
    "    headline = headline.lower()\n",
    "    headline = headline.split()\n",
    "    headline = [ps.stem(word) for word in headline if not word in stopwords.words('english')]\n",
    "    headline = \" \".join(headline)\n",
    "    return headline"
   ]
  },
  {
   "cell_type": "code",
   "execution_count": 111,
   "metadata": {
    "execution": {
     "iopub.execute_input": "2021-07-08T19:05:44.441375Z",
     "iopub.status.busy": "2021-07-08T19:05:44.440999Z",
     "iopub.status.idle": "2021-07-08T19:05:44.447552Z",
     "shell.execute_reply": "2021-07-08T19:05:44.446323Z",
     "shell.execute_reply.started": "2021-07-08T19:05:44.441342Z"
    }
   },
   "outputs": [
    {
     "name": "stderr",
     "output_type": "stream",
     "text": [
      "100%|█████████████████████████████████████████████████████████████████████████████| 3988/3988 [00:11<00:00, 361.53it/s]\n"
     ]
    },
    {
     "data": {
      "text/plain": [
       "['four way bob corker skewer donald trump',\n",
       " 'linklat war veteran comedi speak modern america say star',\n",
       " 'trump fight corker jeopard legisl agenda',\n",
       " 'egypt cheiron win tie pemex mexican onshor oil field',\n",
       " 'jason aldean open snl vega tribut',\n",
       " 'jetnat fanduel leagu week',\n",
       " 'kansa tri tax plan similar trump fail']"
      ]
     },
     "execution_count": 111,
     "metadata": {},
     "output_type": "execute_result"
    }
   ],
   "source": [
    "corpus = []\n",
    "for text in tqdm(df['Headline']):\n",
    "    output = preprocess(text)\n",
    "    corpus.append(output)\n",
    "corpus[0:7]"
   ]
  },
  {
   "cell_type": "code",
   "execution_count": 112,
   "metadata": {},
   "outputs": [
    {
     "data": {
      "text/plain": [
       "3988"
      ]
     },
     "execution_count": 112,
     "metadata": {},
     "output_type": "execute_result"
    }
   ],
   "source": [
    "len(corpus)"
   ]
  },
  {
   "cell_type": "code",
   "execution_count": 113,
   "metadata": {
    "execution": {
     "iopub.execute_input": "2021-07-08T19:05:45.554721Z",
     "iopub.status.busy": "2021-07-08T19:05:45.554297Z",
     "iopub.status.idle": "2021-07-08T19:05:45.926332Z",
     "shell.execute_reply": "2021-07-08T19:05:45.92532Z",
     "shell.execute_reply.started": "2021-07-08T19:05:45.554684Z"
    }
   },
   "outputs": [],
   "source": [
    "tfidf = TfidfVectorizer(max_features = 6000,ngram_range = (1,3))"
   ]
  },
  {
   "cell_type": "code",
   "execution_count": 114,
   "metadata": {
    "execution": {
     "iopub.execute_input": "2021-07-08T19:05:47.054626Z",
     "iopub.status.busy": "2021-07-08T19:05:47.054269Z",
     "iopub.status.idle": "2021-07-08T19:05:47.060581Z",
     "shell.execute_reply": "2021-07-08T19:05:47.059558Z",
     "shell.execute_reply.started": "2021-07-08T19:05:47.054596Z"
    }
   },
   "outputs": [],
   "source": [
    "rf_pipeline = Pipeline([('tfidf',tfidf),('clf',RandomForestClassifier())])"
   ]
  },
  {
   "cell_type": "code",
   "execution_count": 115,
   "metadata": {},
   "outputs": [
    {
     "name": "stdout",
     "output_type": "stream",
     "text": [
      "(3988,)\n",
      "(3988,)\n"
     ]
    }
   ],
   "source": [
    "y = df['Label'].values\n",
    "X = np.array(corpus)\n",
    "print(X.shape)\n",
    "print(y.shape)"
   ]
  },
  {
   "cell_type": "code",
   "execution_count": 116,
   "metadata": {
    "execution": {
     "iopub.execute_input": "2021-07-08T19:05:50.706274Z",
     "iopub.status.busy": "2021-07-08T19:05:50.705757Z",
     "iopub.status.idle": "2021-07-08T19:10:10.898253Z",
     "shell.execute_reply": "2021-07-08T19:10:10.897098Z",
     "shell.execute_reply.started": "2021-07-08T19:05:50.706219Z"
    }
   },
   "outputs": [
    {
     "name": "stdout",
     "output_type": "stream",
     "text": [
      "1 of KFold 10\n",
      "Training accuracy is 0.9986068542769574\n",
      "Validation accuracy is 0.8596491228070176\n",
      "2 of KFold 10\n",
      "Training accuracy is 0.9988854834215659\n",
      "Validation accuracy is 0.8646616541353384\n",
      "3 of KFold 10\n",
      "Training accuracy is 0.9991641125661744\n",
      "Validation accuracy is 0.8771929824561403\n",
      "4 of KFold 10\n",
      "Training accuracy is 0.9988854834215659\n",
      "Validation accuracy is 0.8521303258145363\n",
      "5 of KFold 10\n",
      "Training accuracy is 0.9991641125661744\n",
      "Validation accuracy is 0.8345864661654135\n",
      "6 of KFold 10\n",
      "Training accuracy is 0.9988854834215659\n",
      "Validation accuracy is 0.8596491228070176\n",
      "7 of KFold 10\n",
      "Training accuracy is 0.9991641125661744\n",
      "Validation accuracy is 0.8270676691729323\n",
      "8 of KFold 10\n",
      "Training accuracy is 0.9986068542769574\n",
      "Validation accuracy is 0.8796992481203008\n",
      "9 of KFold 10\n",
      "Training accuracy is 0.9988857938718663\n",
      "Validation accuracy is 0.8844221105527639\n",
      "10 of KFold 10\n",
      "Training accuracy is 0.9991643454038998\n",
      "Validation accuracy is 0.8291457286432161\n"
     ]
    }
   ],
   "source": [
    "kf = StratifiedKFold(n_splits = 10)\n",
    "i = 1\n",
    "train_accuracy = []\n",
    "val_accuracy = []\n",
    "for train_index,test_index in kf.split(X,y):\n",
    "    print('{} of KFold {}'.format(i,kf.n_splits))\n",
    "    #print(train_index,test_index)\n",
    "    X_train,X_val = X[train_index],X[test_index]\n",
    "    y_train,y_val = y[train_index],y[test_index]\n",
    "    rf_pipeline.fit(X_train,y_train)\n",
    "    y_pred_train = rf_pipeline.predict(X_train)\n",
    "    y_pred = rf_pipeline.predict(X_val)\n",
    "    print(f'Training accuracy is {accuracy_score(y_train,y_pred_train)}')\n",
    "    print(f'Validation accuracy is {accuracy_score(y_val,y_pred)}')\n",
    "    val_accuracy.append(accuracy_score(y_val,y_pred))\n",
    "    train_accuracy.append(accuracy_score(y_train,y_pred_train))\n",
    "    i += 1"
   ]
  },
  {
   "cell_type": "code",
   "execution_count": 117,
   "metadata": {
    "execution": {
     "iopub.execute_input": "2021-07-08T18:30:19.858849Z",
     "iopub.status.busy": "2021-07-08T18:30:19.858457Z",
     "iopub.status.idle": "2021-07-08T18:30:20.085832Z",
     "shell.execute_reply": "2021-07-08T18:30:20.085119Z",
     "shell.execute_reply.started": "2021-07-08T18:30:19.858805Z"
    }
   },
   "outputs": [
    {
     "data": {
      "image/png": "[encoded data removed]",
      "text/plain": [
       "<Figure size 432x288 with 2 Axes>"
      ]
     },
     "metadata": {
      "needs_background": "light"
     },
     "output_type": "display_data"
    }
   ],
   "source": [
    "sns.heatmap(confusion_matrix(y_val,y_pred),annot = True,cmap = 'Blues',fmt = 'd')\n",
    "plt.show()"
   ]
  },
  {
   "cell_type": "code",
   "execution_count": 118,
   "metadata": {
    "execution": {
     "iopub.execute_input": "2021-07-08T18:30:21.589068Z",
     "iopub.status.busy": "2021-07-08T18:30:21.588654Z",
     "iopub.status.idle": "2021-07-08T18:30:21.600669Z",
     "shell.execute_reply": "2021-07-08T18:30:21.599383Z",
     "shell.execute_reply.started": "2021-07-08T18:30:21.589033Z"
    }
   },
   "outputs": [
    {
     "name": "stdout",
     "output_type": "stream",
     "text": [
      "              precision    recall  f1-score   support\n",
      "\n",
      "           0       0.82      0.86      0.84       212\n",
      "           1       0.84      0.79      0.81       186\n",
      "\n",
      "    accuracy                           0.83       398\n",
      "   macro avg       0.83      0.83      0.83       398\n",
      "weighted avg       0.83      0.83      0.83       398\n",
      "\n"
     ]
    }
   ],
   "source": [
    "print(classification_report(y_val,y_pred))"
   ]
  },
  {
   "cell_type": "code",
   "execution_count": 119,
   "metadata": {
    "execution": {
     "iopub.execute_input": "2021-07-08T19:24:09.100244Z",
     "iopub.status.busy": "2021-07-08T19:24:09.099853Z",
     "iopub.status.idle": "2021-07-08T19:24:09.127566Z",
     "shell.execute_reply": "2021-07-08T19:24:09.126571Z",
     "shell.execute_reply.started": "2021-07-08T19:24:09.100185Z"
    }
   },
   "outputs": [],
   "source": [
    "filename = 'fake_news_detec_pipeline.pkl'\n",
    "with open(filename,'wb') as file:\n",
    "    pickle.dump(rf_pipeline,file)"
   ]
  }
 ],
 "metadata": {
  "kernelspec": {
   "display_name": "Python 3",
   "language": "python",
   "name": "python3"
  },
  "language_info": {
   "codemirror_mode": {
    "name": "ipython",
    "version": 3
   },
   "file_extension": ".py",
   "mimetype": "text/x-python",
   "name": "python",
   "nbconvert_exporter": "python",
   "pygments_lexer": "ipython3",
   "version": "3.7.1"
  }
 },
 "nbformat": 4,
 "nbformat_minor": 4
}
