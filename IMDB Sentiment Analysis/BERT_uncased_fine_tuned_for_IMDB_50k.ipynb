{
  "nbformat": 4,
  "nbformat_minor": 0,
  "metadata": {
    "colab": {
      "name": "BERT_uncased_fine_tuned_for_IMDB_50k.ipynb",
      "provenance": [],
      "collapsed_sections": [],
      "authorship_tag": "ABX9TyO63VVE2t+x2mpv6t74U7vl",
      "include_colab_link": true
    },
    "kernelspec": {
      "name": "python3",
      "display_name": "Python 3"
    },
    "language_info": {
      "name": "python"
    },
    "accelerator": "GPU"
  },
  "cells": [
    {
      "cell_type": "markdown",
      "metadata": {
        "id": "view-in-github",
        "colab_type": "text"
      },
      "source": [
        "<a href=\"https://colab.research.google.com/github/vanadnarayane26/IMDB-sentiment-analysis-/blob/main/BERT_uncased_fine_tuned_for_IMDB_50k.ipynb\" target=\"_parent\"><img src=\"https://colab.research.google.com/assets/colab-badge.svg\" alt=\"Open In Colab\"/></a>"
      ]
    },
    {
      "cell_type": "code",
      "metadata": {
        "id": "EIxfOPq9Z7Re"
      },
      "source": [
        "!pip install -q -U tensorflow-text\n",
        "!pip install -q tf-models-official\n",
        "\n",
        "import numpy as np\n",
        "import os\n",
        "import pandas as pd\n",
        "import matplotlib.pyplot as plt\n",
        "import seaborn as sns\n",
        "import tensorflow as tf\n",
        "import tensorflow_hub as hub\n",
        "import tensorflow_text as text\n",
        "from official.nlp import optimization\n",
        "from tensorflow.keras.preprocessing.sequence import pad_sequences\n",
        "from tensorflow.keras.models import Model\n",
        "from tensorflow.keras.preprocessing.text import Tokenizer\n",
        "from sklearn.preprocessing import LabelEncoder\n",
        "tf.get_logger().setLevel('ERROR')"
      ],
      "execution_count": 9,
      "outputs": []
    },
    {
      "cell_type": "code",
      "metadata": {
        "colab": {
          "base_uri": "https://localhost:8080/"
        },
        "id": "zGWuGRXxaJ9K",
        "outputId": "701b3054-2b97-4147-f594-a7a3b9893e2d"
      },
      "source": [
        "!gdown https://drive.google.com/uc?id=1W3oJKBRcJ9l-IiPpaVPRo2En7X5vMZf5"
      ],
      "execution_count": 10,
      "outputs": [
        {
          "output_type": "stream",
          "text": [
            "Downloading...\n",
            "From: https://drive.google.com/uc?id=1W3oJKBRcJ9l-IiPpaVPRo2En7X5vMZf5\n",
            "To: /content/IMDB Dataset.csv.zip\n",
            "27.0MB [00:00, 65.1MB/s]\n"
          ],
          "name": "stdout"
        }
      ]
    },
    {
      "cell_type": "code",
      "metadata": {
        "id": "qCQl9e8OpNeF"
      },
      "source": [
        "os.rename('IMDB Dataset.csv.zip','IMDB_Dataset.csv.zip')"
      ],
      "execution_count": 11,
      "outputs": []
    },
    {
      "cell_type": "code",
      "metadata": {
        "colab": {
          "base_uri": "https://localhost:8080/"
        },
        "id": "eTqF4Xp0bxq5",
        "outputId": "120f2b93-2a9d-4d92-d07c-cd539da0bbc6"
      },
      "source": [
        "!unzip /content/IMDB_Dataset.csv.zip"
      ],
      "execution_count": 12,
      "outputs": [
        {
          "output_type": "stream",
          "text": [
            "Archive:  /content/IMDB_Dataset.csv.zip\n",
            "replace IMDB Dataset.csv? [y]es, [n]o, [A]ll, [N]one, [r]ename: A\n",
            "  inflating: IMDB Dataset.csv        \n"
          ],
          "name": "stdout"
        }
      ]
    },
    {
      "cell_type": "code",
      "metadata": {
        "colab": {
          "base_uri": "https://localhost:8080/",
          "height": 203
        },
        "id": "6rdxeUPIbzZE",
        "outputId": "54d96dd3-1d54-49c8-d7b1-ce3dcced631c"
      },
      "source": [
        "df = pd.read_csv('/content/IMDB Dataset.csv')\n",
        "df.head()"
      ],
      "execution_count": 13,
      "outputs": [
        {
          "output_type": "execute_result",
          "data": {
            "text/html": [
              "<div>\n",
              "<style scoped>\n",
              "    .dataframe tbody tr th:only-of-type {\n",
              "        vertical-align: middle;\n",
              "    }\n",
              "\n",
              "    .dataframe tbody tr th {\n",
              "        vertical-align: top;\n",
              "    }\n",
              "\n",
              "    .dataframe thead th {\n",
              "        text-align: right;\n",
              "    }\n",
              "</style>\n",
              "<table border=\"1\" class=\"dataframe\">\n",
              "  <thead>\n",
              "    <tr style=\"text-align: right;\">\n",
              "      <th></th>\n",
              "      <th>review</th>\n",
              "      <th>sentiment</th>\n",
              "    </tr>\n",
              "  </thead>\n",
              "  <tbody>\n",
              "    <tr>\n",
              "      <th>0</th>\n",
              "      <td>One of the other reviewers has mentioned that ...</td>\n",
              "      <td>positive</td>\n",
              "    </tr>\n",
              "    <tr>\n",
              "      <th>1</th>\n",
              "      <td>A wonderful little production. &lt;br /&gt;&lt;br /&gt;The...</td>\n",
              "      <td>positive</td>\n",
              "    </tr>\n",
              "    <tr>\n",
              "      <th>2</th>\n",
              "      <td>I thought this was a wonderful way to spend ti...</td>\n",
              "      <td>positive</td>\n",
              "    </tr>\n",
              "    <tr>\n",
              "      <th>3</th>\n",
              "      <td>Basically there's a family where a little boy ...</td>\n",
              "      <td>negative</td>\n",
              "    </tr>\n",
              "    <tr>\n",
              "      <th>4</th>\n",
              "      <td>Petter Mattei's \"Love in the Time of Money\" is...</td>\n",
              "      <td>positive</td>\n",
              "    </tr>\n",
              "  </tbody>\n",
              "</table>\n",
              "</div>"
            ],
            "text/plain": [
              "                                              review sentiment\n",
              "0  One of the other reviewers has mentioned that ...  positive\n",
              "1  A wonderful little production. <br /><br />The...  positive\n",
              "2  I thought this was a wonderful way to spend ti...  positive\n",
              "3  Basically there's a family where a little boy ...  negative\n",
              "4  Petter Mattei's \"Love in the Time of Money\" is...  positive"
            ]
          },
          "metadata": {
            "tags": []
          },
          "execution_count": 13
        }
      ]
    },
    {
      "cell_type": "code",
      "metadata": {
        "colab": {
          "base_uri": "https://localhost:8080/",
          "height": 172
        },
        "id": "g0_QHVhgb3xa",
        "outputId": "ada3cd0c-92cd-46cd-8b2b-19c8d47c1b77"
      },
      "source": [
        "df.describe()"
      ],
      "execution_count": 14,
      "outputs": [
        {
          "output_type": "execute_result",
          "data": {
            "text/html": [
              "<div>\n",
              "<style scoped>\n",
              "    .dataframe tbody tr th:only-of-type {\n",
              "        vertical-align: middle;\n",
              "    }\n",
              "\n",
              "    .dataframe tbody tr th {\n",
              "        vertical-align: top;\n",
              "    }\n",
              "\n",
              "    .dataframe thead th {\n",
              "        text-align: right;\n",
              "    }\n",
              "</style>\n",
              "<table border=\"1\" class=\"dataframe\">\n",
              "  <thead>\n",
              "    <tr style=\"text-align: right;\">\n",
              "      <th></th>\n",
              "      <th>review</th>\n",
              "      <th>sentiment</th>\n",
              "    </tr>\n",
              "  </thead>\n",
              "  <tbody>\n",
              "    <tr>\n",
              "      <th>count</th>\n",
              "      <td>50000</td>\n",
              "      <td>50000</td>\n",
              "    </tr>\n",
              "    <tr>\n",
              "      <th>unique</th>\n",
              "      <td>49582</td>\n",
              "      <td>2</td>\n",
              "    </tr>\n",
              "    <tr>\n",
              "      <th>top</th>\n",
              "      <td>Loved today's show!!! It was a variety and not...</td>\n",
              "      <td>positive</td>\n",
              "    </tr>\n",
              "    <tr>\n",
              "      <th>freq</th>\n",
              "      <td>5</td>\n",
              "      <td>25000</td>\n",
              "    </tr>\n",
              "  </tbody>\n",
              "</table>\n",
              "</div>"
            ],
            "text/plain": [
              "                                                   review sentiment\n",
              "count                                               50000     50000\n",
              "unique                                              49582         2\n",
              "top     Loved today's show!!! It was a variety and not...  positive\n",
              "freq                                                    5     25000"
            ]
          },
          "metadata": {
            "tags": []
          },
          "execution_count": 14
        }
      ]
    },
    {
      "cell_type": "code",
      "metadata": {
        "colab": {
          "base_uri": "https://localhost:8080/"
        },
        "id": "Pa8GDWrDb8G6",
        "outputId": "2aa1fc8f-040c-4290-c527-654a82fbd4f0"
      },
      "source": [
        "df.isnull().sum()"
      ],
      "execution_count": 15,
      "outputs": [
        {
          "output_type": "execute_result",
          "data": {
            "text/plain": [
              "review       0\n",
              "sentiment    0\n",
              "dtype: int64"
            ]
          },
          "metadata": {
            "tags": []
          },
          "execution_count": 15
        }
      ]
    },
    {
      "cell_type": "code",
      "metadata": {
        "colab": {
          "base_uri": "https://localhost:8080/",
          "height": 299
        },
        "id": "Roa0HRuicCiK",
        "outputId": "d1c2b8de-e1f1-4bf8-cb04-5f62cdb1bb80"
      },
      "source": [
        "df['sentiment'].value_counts().plot.bar()\n",
        "plt.show()"
      ],
      "execution_count": 16,
      "outputs": [
        {
          "output_type": "display_data",
          "data": {
            "image/png": "[encoded data removed]",
            "text/plain": [
              "<Figure size 432x288 with 1 Axes>"
            ]
          },
          "metadata": {
            "tags": [],
            "needs_background": "light"
          }
        }
      ]
    },
    {
      "cell_type": "code",
      "metadata": {
        "id": "oki1nzMAcIF7"
      },
      "source": [
        "def encoder_funct(df):\n",
        "    encode_y = LabelEncoder()\n",
        "    y = encode_y.fit_transform(df['sentiment'])\n",
        "    return y\n",
        "y = encoder_funct(df)\n",
        "df['sentiment_encoded'] = y "
      ],
      "execution_count": 17,
      "outputs": []
    },
    {
      "cell_type": "code",
      "metadata": {
        "colab": {
          "base_uri": "https://localhost:8080/",
          "height": 203
        },
        "id": "HLKrffp7cLE5",
        "outputId": "f7b68a4e-20cb-4908-a1b7-d52afada8361"
      },
      "source": [
        "df.head()"
      ],
      "execution_count": 18,
      "outputs": [
        {
          "output_type": "execute_result",
          "data": {
            "text/html": [
              "<div>\n",
              "<style scoped>\n",
              "    .dataframe tbody tr th:only-of-type {\n",
              "        vertical-align: middle;\n",
              "    }\n",
              "\n",
              "    .dataframe tbody tr th {\n",
              "        vertical-align: top;\n",
              "    }\n",
              "\n",
              "    .dataframe thead th {\n",
              "        text-align: right;\n",
              "    }\n",
              "</style>\n",
              "<table border=\"1\" class=\"dataframe\">\n",
              "  <thead>\n",
              "    <tr style=\"text-align: right;\">\n",
              "      <th></th>\n",
              "      <th>review</th>\n",
              "      <th>sentiment</th>\n",
              "      <th>sentiment_encoded</th>\n",
              "    </tr>\n",
              "  </thead>\n",
              "  <tbody>\n",
              "    <tr>\n",
              "      <th>0</th>\n",
              "      <td>One of the other reviewers has mentioned that ...</td>\n",
              "      <td>positive</td>\n",
              "      <td>1</td>\n",
              "    </tr>\n",
              "    <tr>\n",
              "      <th>1</th>\n",
              "      <td>A wonderful little production. &lt;br /&gt;&lt;br /&gt;The...</td>\n",
              "      <td>positive</td>\n",
              "      <td>1</td>\n",
              "    </tr>\n",
              "    <tr>\n",
              "      <th>2</th>\n",
              "      <td>I thought this was a wonderful way to spend ti...</td>\n",
              "      <td>positive</td>\n",
              "      <td>1</td>\n",
              "    </tr>\n",
              "    <tr>\n",
              "      <th>3</th>\n",
              "      <td>Basically there's a family where a little boy ...</td>\n",
              "      <td>negative</td>\n",
              "      <td>0</td>\n",
              "    </tr>\n",
              "    <tr>\n",
              "      <th>4</th>\n",
              "      <td>Petter Mattei's \"Love in the Time of Money\" is...</td>\n",
              "      <td>positive</td>\n",
              "      <td>1</td>\n",
              "    </tr>\n",
              "  </tbody>\n",
              "</table>\n",
              "</div>"
            ],
            "text/plain": [
              "                                              review  ... sentiment_encoded\n",
              "0  One of the other reviewers has mentioned that ...  ...                 1\n",
              "1  A wonderful little production. <br /><br />The...  ...                 1\n",
              "2  I thought this was a wonderful way to spend ti...  ...                 1\n",
              "3  Basically there's a family where a little boy ...  ...                 0\n",
              "4  Petter Mattei's \"Love in the Time of Money\" is...  ...                 1\n",
              "\n",
              "[5 rows x 3 columns]"
            ]
          },
          "metadata": {
            "tags": []
          },
          "execution_count": 18
        }
      ]
    },
    {
      "cell_type": "code",
      "metadata": {
        "colab": {
          "base_uri": "https://localhost:8080/"
        },
        "id": "hhJ-KE2LcMbW",
        "outputId": "f233d35d-dacc-48bd-96e0-484a28373469"
      },
      "source": [
        "raw_df_ds = tf.data.Dataset.from_tensor_slices((df['review'].values,df['sentiment_encoded'].values))\n",
        "validation_size = int(0.2*df.shape[0])\n",
        "train_size = df.shape[0]-validation_size\n",
        "print(validation_size)\n",
        "print(train_size)"
      ],
      "execution_count": 19,
      "outputs": [
        {
          "output_type": "stream",
          "text": [
            "10000\n",
            "40000\n"
          ],
          "name": "stdout"
        }
      ]
    },
    {
      "cell_type": "code",
      "metadata": {
        "id": "_p0Crw97cUrB"
      },
      "source": [
        "seeD = 42\n",
        "raw_df_ds = raw_df_ds.shuffle(seeD)\n",
        "raw_train_ds = raw_df_ds.take(train_size)\n",
        "raw_val_ds = raw_df_ds.skip(train_size)"
      ],
      "execution_count": 20,
      "outputs": []
    },
    {
      "cell_type": "code",
      "metadata": {
        "id": "NbVUhukVciEH"
      },
      "source": [
        "AUTOTUNE = tf.data.AUTOTUNE\n",
        "batch_size = 32\n",
        "train_ds = raw_train_ds.cache().prefetch(buffer_size=AUTOTUNE)\n",
        "val_ds = raw_val_ds.cache().prefetch(buffer_size=AUTOTUNE)\n",
        "\n",
        "raw_train_ds = raw_train_ds.batch(batch_size = batch_size)\n",
        "raw_val_ds = raw_val_ds.batch(batch_size = batch_size)"
      ],
      "execution_count": 21,
      "outputs": []
    },
    {
      "cell_type": "code",
      "metadata": {
        "colab": {
          "base_uri": "https://localhost:8080/"
        },
        "id": "fHWvjHMUcZuY",
        "outputId": "c649a97b-07b0-40b4-af6c-71eff16bfab8"
      },
      "source": [
        "#print train set\n",
        "for review,sentiment in raw_train_ds.take(1):\n",
        "    for i in range(5):\n",
        "      print(review.numpy()[i])\n",
        "      print('sentiment:',sentiment.numpy()[i])"
      ],
      "execution_count": 22,
      "outputs": [
        {
          "output_type": "stream",
          "text": [
            "b\"Basically there's a family where a little boy (Jake) thinks there's a zombie in his closet & his parents are fighting all the time.<br /><br />This movie is slower than a soap opera... and suddenly, Jake decides to become Rambo and kill the zombie.<br /><br />OK, first of all when you're going to make a film you must Decide if its a thriller or a drama! As a drama the movie is watchable. Parents are divorcing & arguing like in real life. And then we have Jake with his closet which totally ruins all the film! I expected to see a BOOGEYMAN similar movie, and instead i watched a drama with some meaningless thriller spots.<br /><br />3 out of 10 just for the well playing parents & descent dialogs. As for the shots with Jake: just ignore them.\"\n",
            "sentiment: 0\n",
            "b\"Kind of drawn in by the erotic scenes, only to realize this was one of the most amateurish and unbelievable bits of film I've ever seen. Sort of like a high school film project. What was Rosanna Arquette thinking?? And what was with all those stock characters in that bizarre supposed Midwest town? Pretty hard to get involved with this one. No lessons to be learned from it, no brilliant insights, just stilted and quite ridiculous (but lots of skin, if that intrigues you) videotaped nonsense....What was with the bisexual relationship, out of nowhere, after all the heterosexual encounters. And what was with that absurd dance, with everybody playing their stereotyped roles? Give this one a pass, it's like a million other miles of bad, wasted film, money that could have been spent on starving children or Aids in Africa.....\"\n",
            "sentiment: 0\n",
            "b\"An awful film! It must have been up against some real stinkers to be nominated for the Golden Globe. They've taken the story of the first famous female Renaissance painter and mangled it beyond recognition. My complaint is not that they've taken liberties with the facts; if the story were good, that would perfectly fine. But it's simply bizarre -- by all accounts the true story of this artist would have made for a far better film, so why did they come up with this dishwater-dull script? I suppose there weren't enough naked people in the factual version. It's hurriedly capped off in the end with a summary of the artist's life -- we could have saved ourselves a couple of hours if they'd favored the rest of the film with same brevity.\"\n",
            "sentiment: 0\n",
            "b\"I sure would like to see a resurrection of a up dated Seahunt series with the tech they have today it would bring back the kid excitement in me.I grew up on black and white TV and Seahunt with Gunsmoke were my hero's every week.You have my vote for a comeback of a new sea hunt.We need a change of pace in TV and this would work for a world of under water adventure.Oh by the way thank you for an outlet like this to view many viewpoints about TV and the many movies.So any ole way I believe I've got what I wanna say.Would be nice to read some more plus points about sea hunt.If my rhymes would be 10 lines would you let me submit,or leave me out to be in doubt and have me to quit,If this is so then I must go so lets do it.\"\n",
            "sentiment: 1\n",
            "b'Phil the Alien is one of those quirky films where the humour is based around the oddness of everything rather than actual punchlines.<br /><br />At first it was very odd and pretty funny but as the movie progressed I didn\\'t find the jokes or oddness funny anymore.<br /><br />Its a low budget film (thats never a problem in itself), there were some pretty interesting characters, but eventually I just lost interest.<br /><br />I imagine this film would appeal to a stoner who is currently partaking.<br /><br />For something similar but better try \"Brother from another planet\"'\n",
            "sentiment: 0\n"
          ],
          "name": "stdout"
        }
      ]
    },
    {
      "cell_type": "code",
      "metadata": {
        "colab": {
          "base_uri": "https://localhost:8080/"
        },
        "id": "mDPdDkPEccSj",
        "outputId": "2713adbc-00bd-4abd-a6e1-692a3e741e1c"
      },
      "source": [
        "#print validation set\n",
        "for review,sentiment in raw_val_ds.take(1):\n",
        "    for i in range(5):\n",
        "      print(review.numpy()[i])\n",
        "      print('sentiment:',sentiment.numpy()[i])"
      ],
      "execution_count": 23,
      "outputs": [
        {
          "output_type": "stream",
          "text": [
            "b\"Actually had to stop it. Don't get me wrong, love bad monster movies. But this one was way too boring, regardless of the suspenseful music that never leads you anywhere. The actress had too many teeth and that moment when she makes contact with one of the beasts, was way too obvious a clich\\xc3\\xa9. This film totally betrays the cover on the DVD which looks pretty interesting. From the cover one expects a giant monster, but you get these cute not as gigantic as expected electric eels. Moved on to watch another film called The Killer Rats but that's another review. Deep Shock was really crap, a big shame considering the fact that it looks pretty high budget.\"\n",
            "sentiment: 0\n",
            "b'\"Mr. Bug Goes To Town\" was the last major achievement the Fleischer studios produced. The quality of the Superman series produced at the same time is evident in this extraordinary film.<br /><br />The music and lyrics by Frank Loesser and Hoagy Carmichael (with assistance by Flieshcer veteran Sammy Timberg are quite good, but not as much as the scoring of the picture by Leigh Harline who also scored Snow White for Disney. Harline\\'s \"atmospheric music\" is superb, and a treat for the ears.<br /><br />The layout and staging of the picture was years ahead of it\\'s time, and once again the Fleischer\\'s background artists outdid themselves. The techincolored beauty of the film cannot be denied, and while Hoppity the grasshopper is the star, the characters of Swat the Fly and Smack the Mosquito steal the picture. Swat\\'s voicing by Jack Mercer (of Popeye fame) is priceless. Kenny Gardner (brother-in-law) of Guy Lombardo...and a featured vocalist in his band...does his usual pleasant job in the role of Dick Dickinsen.<br /><br />The movie has been criticized for all the wrong reasons. The Fleischer Studios were animation experts par excellence and this shows very clearly in the finished product. The movie is tuneful, the story great for all ages, and the final scenes of the bugs scrambling for their lives upon a rising skyscraper is some of the best staging and animation of any animated film past and present.<br /><br />Do not miss this wonderfully hand drawn film. Also don\\'t fail to appreciate the title sequence with the most elaborate example of Max Fleischer\\'s remarkable 3-D sterioptical process which took four months to construct and employed 16,000 tiny panes of glass in the \"electrified\" buildings of Manhattan.<br /><br />Do not miss Mr. Bug Goes To Town...aka Hoppity Goes To Town. I\\'ll wager you\\'ll be bug eyed at the results!'\n",
            "sentiment: 1\n",
            "b'I approached this film with low expectations but was very pleasantly surprised. It is very well done and it beats hands down the ballroom dancing movies of recent years, especially \"Strictly Ballroom\". While the music is nice and the dancing colourful, for me the movie is not about dancing. It is about the very Japanese institution that gives male office workers long commutes to work and free time after work for entertainment that does not involve their families. Here we have the man with the complete family and the large mortgage and a flagging zest for life. He is drawn to the attractive image of a young woman in a dance studio he passes during his commute and this leads him to try ballroom dancing. Also Japanese is the fact that the lecherous motives that initiated his new passion are made plain but somehow accepted, at least eventually, by family and audience. Attitudes to ballroom dancing, as conveyed in the film, are definitely non-Western, though the discipline and the music are clearly cultural imports to Japan. The cultural contrasts are thus intriguing. Even without the cultural insights, the colour, the dance and the enthusiasm of the players all make this a fun film to watch.'\n",
            "sentiment: 1\n",
            "b'This was a movie that I had heard about all my life growing up, but had never seen it until a few years ago. It\\'s reputation truly proceeded it. I knew of Michael Myers, had seen the mask, saw commercials for all of the crummy sequels that followed. But I was growing up during the decade where Jason and Freddy had a deadly grip on the horror game, and never thought much of the Halloween franchise. Boy, how I was being cheated with cheap knock offs.<br /><br />Halloween is a genuinely terrifying movie. Now, by today\\'s standards, it isn\\'t as graphic and visceral, but this film delivers on all the other levels most horror movies fail to achieve today. The atmosphere that John Carpenter creates is so creepy, and the fact that it is set in a quaint, mid-west town is a testament to his ability. The lighting effects are down right horrifying, with \"The Shape\" seemingly appearing and disappearing into the shadows at will. The simple yet brutally effective music score only adds to the suspense.<br /><br />The performances by all the players are well done, with specific nods to Jamie Lee Curtis and Donald Pleasance. Ms. Curtis is such a good Laurie Strode because she is so likable and vulnerable. It is all the more frightening when she is being stalked by Michael Myers because the director and viewer have invested so much into her, we want her to survive and get away.<br /><br />Donald Pleasance plays Dr. Loomis like a man on a mission, and it works well. He adds a sense of urgency to the predicament the town finds itself in because he knows what evil stalks their streets.<br /><br />Overall, not only is Halloween a great horror movie, but also a great film. It works on many levels and draws the audience in and never lets up. This should be standard viewing for anyone wanting to experience a truly scary movie. And for an even more frightful time, try watching it alone with the lights off. Don\\'t be surprised if you think you see \"The Shape\" lurking around in the shadows!'\n",
            "sentiment: 1\n",
            "b\"I've been trying to remember the name of this movie for years (not consecutively, of course). I saw it at the local dollar theater when I was 11, and it was so atrocious I almost walked out; I think I didn't realize one was allowed to leave before the movie ended. Anyway, it stuck in my mind as just about the worst movie I saw growing up. I can finally give it the rating it deserves.<br /><br />1/10 (that was strangely satisfying)\"\n",
            "sentiment: 0\n"
          ],
          "name": "stdout"
        }
      ]
    },
    {
      "cell_type": "code",
      "metadata": {
        "id": "M5ZHe385cj4j"
      },
      "source": [
        "tfhub_handle_preprocess = 'https://tfhub.dev/tensorflow/bert_en_uncased_preprocess/3'\n",
        "tfhub_handle_encoder = 'https://tfhub.dev/tensorflow/bert_en_uncased_L-12_H-768_A-12/3'"
      ],
      "execution_count": 24,
      "outputs": []
    },
    {
      "cell_type": "code",
      "metadata": {
        "id": "P5RLmbyucnh7"
      },
      "source": [
        "def build_classifier_model():\n",
        "    text_input = tf.keras.layers.Input(shape=(), dtype=tf.string, name='text')\n",
        "    preprocessing_layer = hub.KerasLayer(tfhub_handle_preprocess, name='preprocessing')\n",
        "    encoder_inputs = preprocessing_layer(text_input)\n",
        "    encoder = hub.KerasLayer(tfhub_handle_encoder, trainable=True, name='BERT_encoder')\n",
        "    outputs = encoder(encoder_inputs)\n",
        "    net = outputs['pooled_output']\n",
        "    net = tf.keras.layers.Dropout(0.1)(net)\n",
        "    net = tf.keras.layers.Dense(1, activation=None, name='classifier')(net)\n",
        "    return tf.keras.Model(text_input, net)"
      ],
      "execution_count": 25,
      "outputs": []
    },
    {
      "cell_type": "code",
      "metadata": {
        "colab": {
          "base_uri": "https://localhost:8080/",
          "height": 466
        },
        "id": "xm4GzMUOcqYB",
        "outputId": "59fba8e5-520e-43ad-8c14-ad33d3c77f37"
      },
      "source": [
        "bert_uncased = build_classifier_model()\n",
        "tf.keras.utils.plot_model(bert_uncased)"
      ],
      "execution_count": 26,
      "outputs": [
        {
          "output_type": "execute_result",
          "data": {
            "image/png": "[encoded data removed]",
            "text/plain": [
              "<IPython.core.display.Image object>"
            ]
          },
          "metadata": {
            "tags": []
          },
          "execution_count": 26
        }
      ]
    },
    {
      "cell_type": "code",
      "metadata": {
        "colab": {
          "base_uri": "https://localhost:8080/"
        },
        "id": "ep4_MxQvcwgk",
        "outputId": "cae6ac50-2c93-4a89-84f9-305d4e506644"
      },
      "source": [
        "callback = tf.keras.callbacks.EarlyStopping(monitor = 'val_loss',patience = 1,min_delta = 0.005)\n",
        "loss = tf.keras.losses.BinaryCrossentropy(from_logits=True)\n",
        "metrics = tf.metrics.BinaryAccuracy()\n",
        "epochs = 3\n",
        "steps_per_epoch = tf.data.experimental.cardinality(raw_train_ds).numpy()\n",
        "num_train_steps = steps_per_epoch * epochs\n",
        "num_warmup_steps = int(0.1*num_train_steps)\n",
        "\n",
        "init_lr = 3e-5\n",
        "optimizer = optimization.create_optimizer(init_lr=init_lr,\n",
        "                                          num_train_steps=num_train_steps,\n",
        "                                          num_warmup_steps=num_warmup_steps,\n",
        "                                          optimizer_type='adamw')\n",
        "bert_uncased.compile(optimizer=optimizer,\n",
        "                         loss=loss,\n",
        "                         metrics=metrics)\n",
        "print(f'Training model with {tfhub_handle_encoder}')\n",
        "history = bert_uncased.fit(x=raw_train_ds,\n",
        "                               validation_data=raw_val_ds,\n",
        "                               epochs=epochs,\n",
        "                               callbacks = [callback])"
      ],
      "execution_count": 27,
      "outputs": [
        {
          "output_type": "stream",
          "text": [
            "Training model with https://tfhub.dev/tensorflow/bert_en_uncased_L-12_H-768_A-12/3\n",
            "Epoch 1/3\n",
            "1250/1250 [==============================] - 1271s 1s/step - loss: 0.3521 - binary_accuracy: 0.8274 - val_loss: 0.2630 - val_binary_accuracy: 0.8827\n",
            "Epoch 2/3\n",
            "1250/1250 [==============================] - 1261s 1s/step - loss: 0.1820 - binary_accuracy: 0.9275 - val_loss: 0.3329 - val_binary_accuracy: 0.8955\n"
          ],
          "name": "stdout"
        }
      ]
    },
    {
      "cell_type": "code",
      "metadata": {
        "colab": {
          "base_uri": "https://localhost:8080/"
        },
        "id": "C7Fs7of6ejDq",
        "outputId": "2d9a5c50-fa3e-40bf-b737-5beb721edfdd"
      },
      "source": [
        "history.history.keys()"
      ],
      "execution_count": 28,
      "outputs": [
        {
          "output_type": "execute_result",
          "data": {
            "text/plain": [
              "dict_keys(['loss', 'binary_accuracy', 'val_loss', 'val_binary_accuracy'])"
            ]
          },
          "metadata": {
            "tags": []
          },
          "execution_count": 28
        }
      ]
    },
    {
      "cell_type": "code",
      "metadata": {
        "colab": {
          "base_uri": "https://localhost:8080/",
          "height": 573
        },
        "id": "mhZDefO_zyrC",
        "outputId": "924be40f-564f-4a9a-b3a3-2259617adb98"
      },
      "source": [
        "plt.plot(history.history['loss'])\n",
        "plt.plot(history.history['val_loss'])\n",
        "plt.legend(['train','validation'],loc = 'lower right')\n",
        "plt.xlabel('epochs')\n",
        "plt.ylabel('LOSS')\n",
        "plt.title('LOSS')\n",
        "plt.show()\n",
        "\n",
        "plt.plot(history.history['binary_accuracy'])\n",
        "plt.plot(history.history['val_binary_accuracy'])\n",
        "plt.legend(['train','validation'],loc = 'lower right')\n",
        "plt.xlabel('epochs')\n",
        "plt.ylabel('Accuracy')\n",
        "plt.title('Accuracy')\n",
        "plt.show()"
      ],
      "execution_count": 30,
      "outputs": [
        {
          "output_type": "display_data",
          "data": {
            "image/png": "[encoded data removed]",
            "text/plain": [
              "<Figure size 432x288 with 1 Axes>"
            ]
          },
          "metadata": {
            "tags": [],
            "needs_background": "light"
          }
        },
        {
          "output_type": "display_data",
          "data": {
            "image/png": "[encoded data removed]",
            "text/plain": [
              "<Figure size 432x288 with 1 Axes>"
            ]
          },
          "metadata": {
            "tags": [],
            "needs_background": "light"
          }
        }
      ]
    }
  ]
}